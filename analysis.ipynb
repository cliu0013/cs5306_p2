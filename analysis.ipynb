{
 "cells": [
  {
   "cell_type": "code",
   "execution_count": null,
   "metadata": {},
   "outputs": [],
   "source": [
    "import pandas as pd\n",
    "\n",
    "# with open('reddit_wsb.csv', newline='') as f:\n",
    "#     reader = csv.reader(f)\n",
    "#     data = list(reader)\n",
    "#     print(data[0])\n",
    "\n",
    "# read data from csv file and convert to list of lists  #\n",
    "data = pd.read_csv('reddit_wsb.csv')\n",
    "# data = data.values.tolist()\n",
    "\n",
    "# # ['timestamp', 'title', 'body', 'score']\n",
    "# data = list(map(lambda x: [x[7], x[0], x[6], x[1]], data))\n",
    "\n",
    "print(data)"
   ]
  },
  {
   "cell_type": "code",
   "execution_count": null,
   "metadata": {},
   "outputs": [],
   "source": []
  }
 ],
 "metadata": {
  "interpreter": {
   "hash": "b5c2592be0b29216125746e396a3566bf3cb07f0971dc076744fa0d66cc7602f"
  },
  "kernelspec": {
   "display_name": "Python 3.8.5 64-bit ('base': conda)",
   "name": "python3"
  },
  "language_info": {
   "codemirror_mode": {
    "name": "ipython",
    "version": 3
   },
   "file_extension": ".py",
   "mimetype": "text/x-python",
   "name": "python",
   "nbconvert_exporter": "python",
   "pygments_lexer": "ipython3",
   "version": "3.8.5"
  }
 },
 "nbformat": 4,
 "nbformat_minor": 4
}
