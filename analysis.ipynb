{
 "cells": [
  {
   "cell_type": "code",
   "execution_count": 4,
   "metadata": {},
   "outputs": [
    {
     "name": "stdout",
     "output_type": "stream",
     "text": [
      "                                                   title  \\\n",
      "0      It's not about the money, it's about sending a...   \n",
      "1      Math Professor Scott Steiner says the numbers ...   \n",
      "2                                        Exit the system   \n",
      "3      NEW SEC FILING FOR GME! CAN SOMEONE LESS RETAR...   \n",
      "4      Not to distract from GME, just thought our AMC...   \n",
      "...                                                  ...   \n",
      "53182    What I Learned Investigating SAVA FUD Spreaders   \n",
      "53183  Daily Popular Tickers Thread for August 02, 20...   \n",
      "53184       Hitler reacts to the market being irrational   \n",
      "53185        Daily Discussion Thread for August 02, 2021   \n",
      "53186  Fraternal Association of Gambling Gentlemen an...   \n",
      "\n",
      "                                                    body  score  \\\n",
      "0                                                    NaN     55   \n",
      "1                                                    NaN    110   \n",
      "2      The CEO of NASDAQ pushed to halt trading “to g...      0   \n",
      "3                                                    NaN     29   \n",
      "4                                                    NaN     71   \n",
      "...                                                  ...    ...   \n",
      "53182  ***TLDR: Three bitter scientists partnered up ...    238   \n",
      "53183  \\nYour daily hype thread. Please keep the shit...    228   \n",
      "53184                                                NaN   7398   \n",
      "53185  Your daily trading discussion thread. Please k...    338   \n",
      "53186  This is an old Yacht Club thread. Click /u/Vis...     40   \n",
      "\n",
      "                 timestamp  \n",
      "0      2021-01-28 21:37:41  \n",
      "1      2021-01-28 21:32:10  \n",
      "2      2021-01-28 21:30:35  \n",
      "3      2021-01-28 21:28:57  \n",
      "4      2021-01-28 21:26:56  \n",
      "...                    ...  \n",
      "53182  2021-08-02 15:03:27  \n",
      "53183  2021-08-02 15:01:03  \n",
      "53184  2021-08-02 13:59:35  \n",
      "53185  2021-08-02 13:00:16  \n",
      "53186  2021-08-02 12:00:14  \n",
      "\n",
      "[53187 rows x 4 columns]\n"
     ]
    }
   ],
   "source": [
    "import pandas as pd\n",
    "\n",
    "# with open('reddit_wsb.csv', newline='') as f:\n",
    "#     reader = csv.reader(f)\n",
    "#     data = list(reader)\n",
    "#     print(data[0])\n",
    "\n",
    "# read data from csv file and convert to list of lists  #\n",
    "data = pd.read_csv('reddit_wsb.csv')\n",
    "# data = data.values.tolist()\n",
    "\n",
    "# # ['timestamp', 'title', 'body', 'score']\n",
    "# data = list(map(lambda x: [x[7], x[0], x[6], x[1]], data))\n",
    "\n",
    "#get title, body, score, and timestamp from data #\n",
    "data = data[['title', 'body', 'score', 'timestamp']]\n",
    "\n",
    "\n",
    "print(data)"
   ]
  },
  {
   "cell_type": "code",
   "execution_count": null,
   "metadata": {},
   "outputs": [],
   "source": []
  }
 ],
 "metadata": {
  "interpreter": {
   "hash": "b5c2592be0b29216125746e396a3566bf3cb07f0971dc076744fa0d66cc7602f"
  },
  "kernelspec": {
   "display_name": "Python 3.8.5 64-bit ('base': conda)",
   "name": "python3"
  },
  "language_info": {
   "codemirror_mode": {
    "name": "ipython",
    "version": 3
   },
   "file_extension": ".py",
   "mimetype": "text/x-python",
   "name": "python",
   "nbconvert_exporter": "python",
   "pygments_lexer": "ipython3",
   "version": "3.8.5"
  }
 },
 "nbformat": 4,
 "nbformat_minor": 4
}
